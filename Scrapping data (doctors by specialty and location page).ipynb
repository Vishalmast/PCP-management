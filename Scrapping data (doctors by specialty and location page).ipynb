{
 "cells": [
  {
   "cell_type": "markdown",
   "metadata": {},
   "source": [
    "# Import Libraries"
   ]
  },
  {
   "cell_type": "code",
   "execution_count": 1,
   "metadata": {},
   "outputs": [],
   "source": [
    "import requests \n",
    "from bs4 import BeautifulSoup \n",
    "import csv "
   ]
  },
  {
   "cell_type": "code",
   "execution_count": 2,
   "metadata": {},
   "outputs": [],
   "source": [
    "from selenium import webdriver"
   ]
  },
  {
   "cell_type": "markdown",
   "metadata": {},
   "source": [
    "# Requesting url"
   ]
  },
  {
   "cell_type": "code",
   "execution_count": 3,
   "metadata": {},
   "outputs": [],
   "source": [
    "path = \"C:\\Program Files (x86)\\chromedriver.exe\""
   ]
  },
  {
   "cell_type": "code",
   "execution_count": 4,
   "metadata": {},
   "outputs": [],
   "source": [
    "driver = webdriver.Chrome(path)"
   ]
  },
  {
   "cell_type": "code",
   "execution_count": 5,
   "metadata": {},
   "outputs": [],
   "source": [
    "driver.get(\"https://www.vitals.com/child-psychiatrists/mi/east-lansing\")"
   ]
  },
  {
   "cell_type": "code",
   "execution_count": 6,
   "metadata": {},
   "outputs": [],
   "source": [
    "soup = BeautifulSoup(driver.page_source, 'html.parser')"
   ]
  },
  {
   "cell_type": "markdown",
   "metadata": {},
   "source": [
    "## Finding doctor profile links"
   ]
  },
  {
   "cell_type": "code",
   "execution_count": 7,
   "metadata": {},
   "outputs": [],
   "source": [
    "profile_links_res = []"
   ]
  },
  {
   "cell_type": "code",
   "execution_count": 8,
   "metadata": {},
   "outputs": [],
   "source": [
    "profile_links = soup.find_all('a', attrs = {'class':''})"
   ]
  },
  {
   "cell_type": "code",
   "execution_count": 9,
   "metadata": {},
   "outputs": [],
   "source": [
    "p = str(profile_links)\n",
    "res = [i for i in range(len(p)) if p.startswith('''data-label=\"view_profile\" data-non-webmd=\"view_profile\"''', i)] \n",
    "index_of_href = []\n",
    "for i in res:\n",
    "    index = p[i:].find(\"href\")\n",
    "#     print(index+i)\n",
    "    index_of_href.append(index+i)"
   ]
  },
  {
   "cell_type": "code",
   "execution_count": 10,
   "metadata": {},
   "outputs": [],
   "source": [
    "index_of_view = []\n",
    "for i in index_of_href:\n",
    "    index = p[i:].find(\"View\")\n",
    "    index_of_view.append(index + i)"
   ]
  },
  {
   "cell_type": "code",
   "execution_count": 11,
   "metadata": {},
   "outputs": [],
   "source": [
    "for i in range(len(index_of_view)):\n",
    "    temp = p[index_of_href[i] + 6: index_of_view[i] - 2]\n",
    "    temp = \"www.vitals.com\" + temp\n",
    "    profile_links_res.append(temp)"
   ]
  },
  {
   "cell_type": "code",
   "execution_count": 12,
   "metadata": {},
   "outputs": [
    {
     "name": "stdout",
     "output_type": "stream",
     "text": [
      "['www.vitals.com/doctors/Dr_Alyse_Ley.html', 'www.vitals.com/doctors/Dr_Paul_Quinlan.html', 'www.vitals.com/doctors/Dr_Madhvi_Richards.html']\n"
     ]
    }
   ],
   "source": [
    "print(profile_links_res)"
   ]
  },
  {
   "cell_type": "code",
   "execution_count": 13,
   "metadata": {},
   "outputs": [
    {
     "name": "stdout",
     "output_type": "stream",
     "text": [
      "3\n"
     ]
    }
   ],
   "source": [
    "print(len(profile_links_res))"
   ]
  },
  {
   "cell_type": "markdown",
   "metadata": {},
   "source": [
    "## Finding Doctor names"
   ]
  },
  {
   "cell_type": "code",
   "execution_count": 14,
   "metadata": {},
   "outputs": [],
   "source": [
    "doctor_names_res = []"
   ]
  },
  {
   "cell_type": "code",
   "execution_count": 15,
   "metadata": {},
   "outputs": [],
   "source": [
    "dr_names = soup.find_all( attrs = {'class':'name'})"
   ]
  },
  {
   "cell_type": "code",
   "execution_count": 16,
   "metadata": {},
   "outputs": [
    {
     "data": {
      "text/plain": [
       "[<span class=\"name\">Dr. Alyse Ley, <span class=\"degree\">DO</span></span>,\n",
       " <span class=\"name\">Dr. Paul Quinlan, <span class=\"degree\">DO</span></span>,\n",
       " <span class=\"name\">Dr. Madhvi Richards, <span class=\"degree\">MD</span></span>]"
      ]
     },
     "execution_count": 16,
     "metadata": {},
     "output_type": "execute_result"
    }
   ],
   "source": [
    "dr_names[:3]"
   ]
  },
  {
   "cell_type": "code",
   "execution_count": 17,
   "metadata": {},
   "outputs": [],
   "source": [
    "p = str(dr_names)\n",
    "index_of_Dr = [i for i in range(len(p)) if p.startswith('''Dr''', i)]\n",
    "# for i in res:\n",
    "#     index = p[i:].find(\"Dr.\")\n",
    "#     index_of_Dr.append(index+i)"
   ]
  },
  {
   "cell_type": "code",
   "execution_count": 18,
   "metadata": {},
   "outputs": [
    {
     "data": {
      "text/plain": [
       "'[<span class=\"name\">Dr. Alyse Ley, <span class=\"degree\">DO</span></span>, <span class=\"name\">Dr. Paul Quinlan, <span class=\"degree\">DO</span></span>, <span class=\"name\">Dr. Madhvi Richards, <span class=\"degree\">MD</span></span>]'"
      ]
     },
     "execution_count": 18,
     "metadata": {},
     "output_type": "execute_result"
    }
   ],
   "source": [
    "p"
   ]
  },
  {
   "cell_type": "code",
   "execution_count": 19,
   "metadata": {},
   "outputs": [],
   "source": [
    "index_of_comma = []\n",
    "for i in index_of_Dr:\n",
    "    index = p[i:].find(\",\")\n",
    "    index_of_comma.append(index + i)"
   ]
  },
  {
   "cell_type": "code",
   "execution_count": 20,
   "metadata": {},
   "outputs": [],
   "source": [
    "for i in range(len(index_of_view)):\n",
    "    temp = p[index_of_Dr[i]: index_of_comma[i]]\n",
    "    doctor_names_res.append(temp)"
   ]
  },
  {
   "cell_type": "code",
   "execution_count": 21,
   "metadata": {},
   "outputs": [
    {
     "name": "stdout",
     "output_type": "stream",
     "text": [
      "['Dr. Alyse Ley', 'Dr. Paul Quinlan', 'Dr. Madhvi Richards']\n"
     ]
    }
   ],
   "source": [
    "print(doctor_names_res)"
   ]
  },
  {
   "cell_type": "code",
   "execution_count": 22,
   "metadata": {},
   "outputs": [
    {
     "name": "stdout",
     "output_type": "stream",
     "text": [
      "3\n"
     ]
    }
   ],
   "source": [
    "print(len(doctor_names_res))"
   ]
  },
  {
   "cell_type": "markdown",
   "metadata": {},
   "source": [
    "## Finding Doctor Specialty"
   ]
  },
  {
   "cell_type": "code",
   "execution_count": 23,
   "metadata": {},
   "outputs": [],
   "source": [
    "doctor_specialty_res = []"
   ]
  },
  {
   "cell_type": "code",
   "execution_count": 24,
   "metadata": {},
   "outputs": [],
   "source": [
    "specialty = soup.find_all( attrs = {'class':'specialty uppercase'})"
   ]
  },
  {
   "cell_type": "code",
   "execution_count": 25,
   "metadata": {},
   "outputs": [],
   "source": [
    "p = str(specialty)\n",
    "index_of_end_bracket = [i for i in range(len(p)) if p.startswith('''>''', i)]"
   ]
  },
  {
   "cell_type": "code",
   "execution_count": 26,
   "metadata": {},
   "outputs": [],
   "source": [
    "index_of_start_bracket = []\n",
    "for i in index_of_end_bracket:\n",
    "    index = p[i:].find(\"<\")\n",
    "    index_of_start_bracket.append(index + i)"
   ]
  },
  {
   "cell_type": "code",
   "execution_count": 27,
   "metadata": {},
   "outputs": [],
   "source": [
    "flag = 0\n",
    "for i in range(len(index_of_view)*2):\n",
    "    temp = p[index_of_end_bracket[i]+2: index_of_start_bracket[i]].strip()\n",
    "#     doctor_specialty_res.append(temp)\n",
    "    if flag == 0:\n",
    "        doctor_specialty_res.append(temp)\n",
    "        flag = 1\n",
    "    else:\n",
    "        flag = 0"
   ]
  },
  {
   "cell_type": "code",
   "execution_count": 28,
   "metadata": {},
   "outputs": [
    {
     "name": "stdout",
     "output_type": "stream",
     "text": [
      "['Psychiatry, Neurology, Child Psychiatry', 'Adolescent Medicine, Psychiatry, Child Psychiatry', 'Psychiatry, Child Psychiatry']\n"
     ]
    }
   ],
   "source": [
    "print(doctor_specialty_res)"
   ]
  },
  {
   "cell_type": "code",
   "execution_count": 29,
   "metadata": {},
   "outputs": [
    {
     "name": "stdout",
     "output_type": "stream",
     "text": [
      "3\n"
     ]
    }
   ],
   "source": [
    "print(len(doctor_specialty_res))"
   ]
  },
  {
   "cell_type": "markdown",
   "metadata": {},
   "source": [
    "## Finding doctor ratings"
   ]
  },
  {
   "cell_type": "code",
   "execution_count": 30,
   "metadata": {},
   "outputs": [],
   "source": [
    "ratings = []\n",
    "number_of_ratings = []"
   ]
  },
  {
   "cell_type": "code",
   "execution_count": 31,
   "metadata": {},
   "outputs": [],
   "source": [
    "rating = soup.find_all('div', attrs = {'class':'card-rating'})"
   ]
  },
  {
   "cell_type": "code",
   "execution_count": 32,
   "metadata": {},
   "outputs": [
    {
     "name": "stdout",
     "output_type": "stream",
     "text": [
      "<div class=\"card-rating\">\n",
      "<aside class=\"rating-4 count\">\n",
      "<span class=\"overall\">3.9</span>\n",
      "<div class=\"stars\">\n",
      "<i class=\"icons-star grey-text text-lighten-2\"></i><i class=\"icons-star grey-text text-lighten-2\"></i><i class=\"icons-star grey-text text-lighten-2\"></i><i class=\"icons-star grey-text text-lighten-2\"></i><i class=\"icons-star grey-text text-lighten-2\"></i> <div style=\"width: 78%\">\n",
      "<i class=\"icons-star rating-text\"></i><i class=\"icons-star rating-text\"></i><i class=\"icons-star rating-text\"></i><i class=\"icons-star rating-text\"></i><i class=\"icons-star rating-text\"></i> </div>\n",
      "</div>\n",
      "</aside>\n",
      "<a data-non-webmd=\"rating\" href=\"/doctors/Dr_Alyse_Ley/reviews\">(11)</a>\n",
      "</div>\n",
      "\n",
      "\n",
      "<div class=\"card-rating\">\n",
      "<aside class=\"rating-4 count\">\n",
      "<span class=\"overall\">4.4</span>\n",
      "<div class=\"stars\">\n",
      "<i class=\"icons-star grey-text text-lighten-2\"></i><i class=\"icons-star grey-text text-lighten-2\"></i><i class=\"icons-star grey-text text-lighten-2\"></i><i class=\"icons-star grey-text text-lighten-2\"></i><i class=\"icons-star grey-text text-lighten-2\"></i> <div style=\"width: 88%\">\n",
      "<i class=\"icons-star rating-text\"></i><i class=\"icons-star rating-text\"></i><i class=\"icons-star rating-text\"></i><i class=\"icons-star rating-text\"></i><i class=\"icons-star rating-text\"></i> </div>\n",
      "</div>\n",
      "</aside>\n",
      "<a data-non-webmd=\"rating\" href=\"/doctors/Dr_Paul_Quinlan/reviews\">(5)</a>\n",
      "</div>\n",
      "\n",
      "\n",
      "<div class=\"card-rating\">\n",
      "<aside class=\"rating-3 count\">\n",
      "<span class=\"overall\">3.0</span>\n",
      "<div class=\"stars\">\n",
      "<i class=\"icons-star grey-text text-lighten-2\"></i><i class=\"icons-star grey-text text-lighten-2\"></i><i class=\"icons-star grey-text text-lighten-2\"></i><i class=\"icons-star grey-text text-lighten-2\"></i><i class=\"icons-star grey-text text-lighten-2\"></i> <div style=\"width: 60%\">\n",
      "<i class=\"icons-star rating-text\"></i><i class=\"icons-star rating-text\"></i><i class=\"icons-star rating-text\"></i><i class=\"icons-star rating-text\"></i><i class=\"icons-star rating-text\"></i> </div>\n",
      "</div>\n",
      "</aside>\n",
      "<a data-non-webmd=\"rating\" href=\"/doctors/Dr_Madhvi_Richards/reviews\">(2)</a>\n",
      "</div>\n",
      "\n",
      "\n"
     ]
    }
   ],
   "source": [
    "for i in rating:\n",
    "    print(i, end = \"\\n\\n\\n\")"
   ]
  },
  {
   "cell_type": "code",
   "execution_count": 33,
   "metadata": {},
   "outputs": [],
   "source": [
    "for i in rating:\n",
    "    if len(ratings) == len(doctor_specialty_res):\n",
    "        break\n",
    "\n",
    "    if str(i).find(\"card-unrated\") != -1:\n",
    "        ratings.append(None)\n",
    "        number_of_ratings.append(0)\n",
    "    else:\n",
    "        index = str(i).find('''class=\"overall\"''')\n",
    "        index += 16\n",
    "        index2 = str(i)[index:].find('''</span>''')\n",
    "        index2 = index2 + index\n",
    "#         print(str(i)[index:index2])\n",
    "#         print(len(str(i)[index:index2]))\n",
    "        ratings.append(float(str(i)[index:index2]))\n",
    "    \n",
    "        index = str(i).find('''data-non-webmd=\"rating\"''')\n",
    "        index2 = str(i)[index:].find('''</a>''')\n",
    "        index2 += index\n",
    "        \n",
    "        index3 = str(i)[index:].find('''\">''')\n",
    "        index3 += index\n",
    "        number_of_ratings.append(int(str(i)[index3 + 3 : index2-1]))"
   ]
  },
  {
   "cell_type": "code",
   "execution_count": 34,
   "metadata": {},
   "outputs": [
    {
     "name": "stdout",
     "output_type": "stream",
     "text": [
      "[3.9, 4.4, 3.0]\n"
     ]
    }
   ],
   "source": [
    "print(ratings)"
   ]
  },
  {
   "cell_type": "code",
   "execution_count": 35,
   "metadata": {},
   "outputs": [
    {
     "name": "stdout",
     "output_type": "stream",
     "text": [
      "[11, 5, 2]\n"
     ]
    }
   ],
   "source": [
    "print(number_of_ratings)"
   ]
  },
  {
   "cell_type": "code",
   "execution_count": 36,
   "metadata": {},
   "outputs": [
    {
     "name": "stdout",
     "output_type": "stream",
     "text": [
      "3\n"
     ]
    }
   ],
   "source": [
    "print(len(ratings))"
   ]
  },
  {
   "cell_type": "code",
   "execution_count": 37,
   "metadata": {},
   "outputs": [
    {
     "name": "stdout",
     "output_type": "stream",
     "text": [
      "3\n"
     ]
    }
   ],
   "source": [
    "print(len(number_of_ratings))"
   ]
  },
  {
   "cell_type": "code",
   "execution_count": null,
   "metadata": {},
   "outputs": [],
   "source": []
  },
  {
   "cell_type": "code",
   "execution_count": null,
   "metadata": {},
   "outputs": [],
   "source": []
  },
  {
   "cell_type": "code",
   "execution_count": 38,
   "metadata": {},
   "outputs": [],
   "source": [
    "# driver.quit()"
   ]
  },
  {
   "cell_type": "code",
   "execution_count": null,
   "metadata": {},
   "outputs": [],
   "source": []
  },
  {
   "cell_type": "code",
   "execution_count": null,
   "metadata": {},
   "outputs": [],
   "source": []
  },
  {
   "cell_type": "code",
   "execution_count": null,
   "metadata": {},
   "outputs": [],
   "source": []
  },
  {
   "cell_type": "code",
   "execution_count": null,
   "metadata": {},
   "outputs": [],
   "source": []
  },
  {
   "cell_type": "code",
   "execution_count": null,
   "metadata": {},
   "outputs": [],
   "source": []
  },
  {
   "cell_type": "code",
   "execution_count": null,
   "metadata": {},
   "outputs": [],
   "source": []
  }
 ],
 "metadata": {
  "kernelspec": {
   "display_name": "Python 3",
   "language": "python",
   "name": "python3"
  },
  "language_info": {
   "codemirror_mode": {
    "name": "ipython",
    "version": 3
   },
   "file_extension": ".py",
   "mimetype": "text/x-python",
   "name": "python",
   "nbconvert_exporter": "python",
   "pygments_lexer": "ipython3",
   "version": "3.7.4"
  }
 },
 "nbformat": 4,
 "nbformat_minor": 2
}
